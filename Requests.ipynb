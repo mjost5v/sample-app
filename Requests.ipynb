{
 "cells": [
  {
   "cell_type": "markdown",
   "source": [
    "# Using the Requests Library\n"
   ],
   "metadata": {
    "collapsed": false
   }
  },
  {
   "cell_type": "code",
   "execution_count": 1,
   "outputs": [],
   "source": [
    "import requests\n",
    "from requests_xml import XMLSession\n",
    "from xml.etree import ElementTree"
   ],
   "metadata": {
    "collapsed": false
   }
  },
  {
   "cell_type": "markdown",
   "source": [
    "## Get the listing of Employees"
   ],
   "metadata": {
    "collapsed": false
   }
  },
  {
   "cell_type": "code",
   "execution_count": 2,
   "outputs": [
    {
     "data": {
      "text/plain": "<Response [200]>"
     },
     "execution_count": 2,
     "metadata": {},
     "output_type": "execute_result"
    }
   ],
   "source": [
    "response = requests.get('http://localhost:5000/api/employee')\n",
    "response\n"
   ],
   "metadata": {
    "collapsed": false
   }
  },
  {
   "cell_type": "markdown",
   "source": [
    "### Raw string text"
   ],
   "metadata": {
    "collapsed": false
   }
  },
  {
   "cell_type": "code",
   "execution_count": 3,
   "outputs": [
    {
     "data": {
      "text/plain": "'{\"page\": 1, \"page_size\": 25, \"total\": 1, \"results\": [{\"id\": 1, \"employee_id\": 1, \"name\": \"Jim\", \"age\": 20, \"position\": \"Manager\"}]}\\n'"
     },
     "execution_count": 3,
     "metadata": {},
     "output_type": "execute_result"
    }
   ],
   "source": [
    "response.text\n"
   ],
   "metadata": {
    "collapsed": false
   }
  },
  {
   "cell_type": "markdown",
   "source": [
    "### Binary content"
   ],
   "metadata": {
    "collapsed": false
   }
  },
  {
   "cell_type": "code",
   "execution_count": 4,
   "outputs": [
    {
     "data": {
      "text/plain": "b'{\"page\": 1, \"page_size\": 25, \"total\": 1, \"results\": [{\"id\": 1, \"employee_id\": 1, \"name\": \"Jim\", \"age\": 20, \"position\": \"Manager\"}]}\\n'"
     },
     "execution_count": 4,
     "metadata": {},
     "output_type": "execute_result"
    }
   ],
   "source": [
    "response.content"
   ],
   "metadata": {
    "collapsed": false
   }
  },
  {
   "cell_type": "markdown",
   "source": [
    "### Status code"
   ],
   "metadata": {
    "collapsed": false
   }
  },
  {
   "cell_type": "code",
   "execution_count": 5,
   "outputs": [
    {
     "data": {
      "text/plain": "200"
     },
     "execution_count": 5,
     "metadata": {},
     "output_type": "execute_result"
    }
   ],
   "source": [
    "response.status_code"
   ],
   "metadata": {
    "collapsed": false
   }
  },
  {
   "cell_type": "markdown",
   "source": [
    "### Response headers"
   ],
   "metadata": {
    "collapsed": false
   }
  },
  {
   "cell_type": "code",
   "execution_count": 6,
   "outputs": [
    {
     "data": {
      "text/plain": "{'Server': 'Werkzeug/2.2.2 Python/3.10.6', 'Date': 'Wed, 05 Oct 2022 00:57:35 GMT', 'Content-Type': 'application/json', 'Content-Length': '132', 'Connection': 'close'}"
     },
     "execution_count": 6,
     "metadata": {},
     "output_type": "execute_result"
    }
   ],
   "source": [
    "response.headers"
   ],
   "metadata": {
    "collapsed": false
   }
  },
  {
   "cell_type": "markdown",
   "source": [
    "## Get an employee\n"
   ],
   "metadata": {
    "collapsed": false
   }
  },
  {
   "cell_type": "code",
   "execution_count": 7,
   "outputs": [
    {
     "data": {
      "text/plain": "{'id': 1, 'employee_id': 1, 'name': 'Jim', 'age': 20, 'position': 'Manager'}"
     },
     "execution_count": 7,
     "metadata": {},
     "output_type": "execute_result"
    }
   ],
   "source": [
    "response = requests.get('http://localhost:5000/api/employee/1')\n",
    "response.json()\n"
   ],
   "metadata": {
    "collapsed": false
   }
  },
  {
   "cell_type": "markdown",
   "source": [
    "### Create an employee\n"
   ],
   "metadata": {
    "collapsed": false
   }
  },
  {
   "cell_type": "code",
   "execution_count": 8,
   "outputs": [
    {
     "data": {
      "text/plain": "{'id': 2, 'employee_id': 2, 'name': 'Bob', 'age': 50, 'position': 'CEO'}"
     },
     "execution_count": 8,
     "metadata": {},
     "output_type": "execute_result"
    }
   ],
   "source": [
    "new_employee = {'employee_id': 2, 'name': 'Bob', 'age': 50, 'position': 'CEO'}\n",
    "response = requests.post('http://localhost:5000/api/employee', json=new_employee)\n",
    "response.json()\n"
   ],
   "metadata": {
    "collapsed": false
   }
  },
  {
   "cell_type": "markdown",
   "source": [
    "## Update an employee\n"
   ],
   "metadata": {
    "collapsed": false
   }
  },
  {
   "cell_type": "code",
   "execution_count": 10,
   "outputs": [
    {
     "data": {
      "text/plain": "{'id': 2, 'employee_id': 2, 'name': 'Bob', 'age': 50, 'position': 'Chairman'}"
     },
     "execution_count": 10,
     "metadata": {},
     "output_type": "execute_result"
    }
   ],
   "source": [
    "new_employee = {'employee_id': 2, 'name': 'Bob', 'age': 50, 'position': 'Chairman'}\n",
    "response = requests.put('http://localhost:5000/api/employee/2', json=new_employee)\n",
    "response.json()\n"
   ],
   "metadata": {
    "collapsed": false
   }
  },
  {
   "cell_type": "markdown",
   "source": [
    "## Delete an employee\n"
   ],
   "metadata": {
    "collapsed": false
   }
  },
  {
   "cell_type": "code",
   "execution_count": 11,
   "outputs": [
    {
     "data": {
      "text/plain": "'Employee 2 deleted'"
     },
     "execution_count": 11,
     "metadata": {},
     "output_type": "execute_result"
    }
   ],
   "source": [
    "response = requests.delete('http://localhost:5000/api/employee/2')\n",
    "response.json()\n"
   ],
   "metadata": {
    "collapsed": false
   }
  },
  {
   "cell_type": "markdown",
   "source": [
    "# Best practices"
   ],
   "metadata": {
    "collapsed": false
   }
  },
  {
   "cell_type": "markdown",
   "source": [
    "## Use a session for isolation"
   ],
   "metadata": {
    "collapsed": false
   }
  },
  {
   "cell_type": "code",
   "execution_count": 12,
   "outputs": [
    {
     "name": "stdout",
     "output_type": "stream",
     "text": [
      "{'Date': 'Wed, 05 Oct 2022 00:59:53 GMT', 'Expires': '-1', 'Cache-Control': 'private, max-age=0', 'Content-Type': 'text/html; charset=ISO-8859-1', 'P3P': 'CP=\"This is not a P3P policy! See g.co/p3phelp for more info.\"', 'Content-Encoding': 'gzip', 'Server': 'gws', 'X-XSS-Protection': '0', 'X-Frame-Options': 'SAMEORIGIN', 'Set-Cookie': '1P_JAR=2022-10-05-00; expires=Fri, 04-Nov-2022 00:59:53 GMT; path=/; domain=.google.com; Secure, AEC=AakniGOoMw0HA5DqpLrirp0DbweVLcy51YDCTizkd43M0nzItgN2quTxZZ8; expires=Mon, 03-Apr-2023 00:59:53 GMT; path=/; domain=.google.com; Secure; HttpOnly; SameSite=lax, NID=511=dYu81sL-EVt1dWDcfbgAa9sislmyJu1519hDGEZkzC3ZYbuogWF_3RGO6mB-32iPZm4WO819nMZEHPblbwYWKjeLEqO8oPdnC41Ap9_eLvyhpVPeCTLuIznxM95ABOFbxkP6ANM_KBaBF0_C9TNQhTmh3zBUCHnwPra0GV3Y624; expires=Thu, 06-Apr-2023 00:59:53 GMT; path=/; domain=.google.com; HttpOnly', 'Alt-Svc': 'h3=\":443\"; ma=2592000,h3-29=\":443\"; ma=2592000,h3-Q050=\":443\"; ma=2592000,h3-Q046=\":443\"; ma=2592000,h3-Q043=\":443\"; ma=2592000,quic=\":443\"; ma=2592000; v=\"46,43\"', 'Transfer-Encoding': 'chunked'}\n",
      "<RequestsCookieJar[<Cookie 1P_JAR=2022-10-05-00 for .google.com/>, <Cookie AEC=AakniGOoMw0HA5DqpLrirp0DbweVLcy51YDCTizkd43M0nzItgN2quTxZZ8 for .google.com/>, <Cookie NID=511=dYu81sL-EVt1dWDcfbgAa9sislmyJu1519hDGEZkzC3ZYbuogWF_3RGO6mB-32iPZm4WO819nMZEHPblbwYWKjeLEqO8oPdnC41Ap9_eLvyhpVPeCTLuIznxM95ABOFbxkP6ANM_KBaBF0_C9TNQhTmh3zBUCHnwPra0GV3Y624 for .google.com/>]>\n",
      "{'Date': 'Wed, 05 Oct 2022 00:59:53 GMT', 'Expires': '-1', 'Cache-Control': 'private, max-age=0', 'Content-Type': 'text/html; charset=ISO-8859-1', 'P3P': 'CP=\"This is not a P3P policy! See g.co/p3phelp for more info.\"', 'Content-Encoding': 'gzip', 'Server': 'gws', 'X-XSS-Protection': '0', 'X-Frame-Options': 'SAMEORIGIN', 'Set-Cookie': '1P_JAR=2022-10-05-00; expires=Fri, 04-Nov-2022 00:59:53 GMT; path=/; domain=.google.com; Secure, NID=511=rJ0Hg5tsaqmrA6KPHWEmgaPx9wEDGsqzN1WyX186al6jPh1FPEXVrpv_FXZV-GujypokMgkcTLDkYPbHjHS1pt75ub2-NBb91SZUJjmNKpTqsmsCOMVAKMeCaNlMhwiTE02ZGuQmw7m8xTRW1N8LNfarfpPoItybxNvmbQGf9Co; expires=Thu, 06-Apr-2023 00:59:53 GMT; path=/; domain=.google.com; HttpOnly', 'Alt-Svc': 'h3=\":443\"; ma=2592000,h3-29=\":443\"; ma=2592000,h3-Q050=\":443\"; ma=2592000,h3-Q046=\":443\"; ma=2592000,h3-Q043=\":443\"; ma=2592000,quic=\":443\"; ma=2592000; v=\"46,43\"', 'Transfer-Encoding': 'chunked'}\n",
      "<RequestsCookieJar[<Cookie 1P_JAR=2022-10-05-00 for .google.com/>, <Cookie NID=511=rJ0Hg5tsaqmrA6KPHWEmgaPx9wEDGsqzN1WyX186al6jPh1FPEXVrpv_FXZV-GujypokMgkcTLDkYPbHjHS1pt75ub2-NBb91SZUJjmNKpTqsmsCOMVAKMeCaNlMhwiTE02ZGuQmw7m8xTRW1N8LNfarfpPoItybxNvmbQGf9Co for .google.com/>]>\n"
     ]
    }
   ],
   "source": [
    "session = requests.Session()\n",
    "response = session.get('https://www.google.com')\n",
    "print(response.headers)\n",
    "print(response.cookies)\n",
    "response = session.get('https://www.google.com')\n",
    "print(response.headers)\n",
    "print(response.cookies)"
   ],
   "metadata": {
    "collapsed": false
   }
  },
  {
   "cell_type": "code",
   "execution_count": 13,
   "outputs": [
    {
     "name": "stdout",
     "output_type": "stream",
     "text": [
      "{'Date': 'Wed, 05 Oct 2022 01:00:36 GMT', 'Expires': '-1', 'Cache-Control': 'private, max-age=0', 'Content-Type': 'text/html; charset=ISO-8859-1', 'P3P': 'CP=\"This is not a P3P policy! See g.co/p3phelp for more info.\"', 'Content-Encoding': 'gzip', 'Server': 'gws', 'X-XSS-Protection': '0', 'X-Frame-Options': 'SAMEORIGIN', 'Set-Cookie': '1P_JAR=2022-10-05-01; expires=Fri, 04-Nov-2022 01:00:36 GMT; path=/; domain=.google.com; Secure, AEC=AakniGO427hXODMXBFvHhjK3oaCwEXXz0GnoZOAy-_IK3k3Vl26hccJlZ24; expires=Mon, 03-Apr-2023 01:00:36 GMT; path=/; domain=.google.com; Secure; HttpOnly; SameSite=lax, NID=511=CF2qOYtwep3X9oBxhLS_lJj45g5HSkm_5XG9-iTwdTmNfSdJtK5m0EGGRia1Vw8XlcduQFEO1veXBo51c0DmnUaSBNp7LQOSwhEQUZoKPoJsrED_8FRAa6jNd0Wc6MmR_7c5UtwvNMIOmoeUM03kLVkIrQg4FPO3LKs-d3CJnW4; expires=Thu, 06-Apr-2023 01:00:36 GMT; path=/; domain=.google.com; HttpOnly', 'Alt-Svc': 'h3=\":443\"; ma=2592000,h3-29=\":443\"; ma=2592000,h3-Q050=\":443\"; ma=2592000,h3-Q046=\":443\"; ma=2592000,h3-Q043=\":443\"; ma=2592000,quic=\":443\"; ma=2592000; v=\"46,43\"', 'Transfer-Encoding': 'chunked'}\n",
      "<RequestsCookieJar[<Cookie 1P_JAR=2022-10-05-01 for .google.com/>, <Cookie AEC=AakniGO427hXODMXBFvHhjK3oaCwEXXz0GnoZOAy-_IK3k3Vl26hccJlZ24 for .google.com/>, <Cookie NID=511=CF2qOYtwep3X9oBxhLS_lJj45g5HSkm_5XG9-iTwdTmNfSdJtK5m0EGGRia1Vw8XlcduQFEO1veXBo51c0DmnUaSBNp7LQOSwhEQUZoKPoJsrED_8FRAa6jNd0Wc6MmR_7c5UtwvNMIOmoeUM03kLVkIrQg4FPO3LKs-d3CJnW4 for .google.com/>]>\n"
     ]
    }
   ],
   "source": [
    "session2 = requests.Session()\n",
    "response2 = session2.get('https://www.google.com')\n",
    "print(response2.headers)\n",
    "print(response2.cookies)"
   ],
   "metadata": {
    "collapsed": false
   }
  },
  {
   "cell_type": "markdown",
   "source": [
    "## Use timeouts to avoid hanging forever"
   ],
   "metadata": {
    "collapsed": false
   }
  },
  {
   "cell_type": "code",
   "execution_count": 14,
   "outputs": [],
   "source": [
    "response = requests.get('http://localhost:5000/', timeout=10)"
   ],
   "metadata": {
    "collapsed": false
   }
  },
  {
   "cell_type": "markdown",
   "source": [
    "## Check status code -> raise for exceptions"
   ],
   "metadata": {
    "collapsed": false
   }
  },
  {
   "cell_type": "code",
   "execution_count": 15,
   "outputs": [],
   "source": [
    "response.raise_for_status()"
   ],
   "metadata": {
    "collapsed": false
   }
  },
  {
   "cell_type": "markdown",
   "source": [
    "## Different media types\n"
   ],
   "metadata": {
    "collapsed": false
   }
  },
  {
   "cell_type": "markdown",
   "source": [
    "#### JSON\n"
   ],
   "metadata": {
    "collapsed": false
   }
  },
  {
   "cell_type": "code",
   "execution_count": 16,
   "outputs": [
    {
     "data": {
      "text/plain": "{'Count': 7,\n 'Message': 'Results returned successfully',\n 'SearchCriteria': 'Make:ford | ModelYear:2015 | VehicleType:truck',\n 'Results': [{'Make_ID': 460,\n   'Make_Name': 'FORD',\n   'Model_ID': 1801,\n   'Model_Name': 'F-150',\n   'VehicleTypeId': 3,\n   'VehicleTypeName': 'Truck '},\n  {'Make_ID': 460,\n   'Make_Name': 'FORD',\n   'Model_ID': 1805,\n   'Model_Name': 'F-250',\n   'VehicleTypeId': 3,\n   'VehicleTypeName': 'Truck '},\n  {'Make_ID': 460,\n   'Make_Name': 'FORD',\n   'Model_ID': 1806,\n   'Model_Name': 'F-350',\n   'VehicleTypeId': 3,\n   'VehicleTypeName': 'Truck '},\n  {'Make_ID': 460,\n   'Make_Name': 'FORD',\n   'Model_ID': 1807,\n   'Model_Name': 'F-450',\n   'VehicleTypeId': 3,\n   'VehicleTypeName': 'Truck '},\n  {'Make_ID': 460,\n   'Make_Name': 'FORD',\n   'Model_ID': 1808,\n   'Model_Name': 'F-550',\n   'VehicleTypeId': 3,\n   'VehicleTypeName': 'Truck '},\n  {'Make_ID': 460,\n   'Make_Name': 'FORD',\n   'Model_ID': 1811,\n   'Model_Name': 'Transit Connect',\n   'VehicleTypeId': 3,\n   'VehicleTypeName': 'Truck '},\n  {'Make_ID': 460,\n   'Make_Name': 'FORD',\n   'Model_ID': 3608,\n   'Model_Name': 'Transit',\n   'VehicleTypeId': 3,\n   'VehicleTypeName': 'Truck '}]}"
     },
     "execution_count": 16,
     "metadata": {},
     "output_type": "execute_result"
    }
   ],
   "source": [
    "response = requests.get(\"https://vpic.nhtsa.dot.gov/api/vehicles/GetModelsForMakeYear/make/ford/modelyear/2015/vehicletype/truck\", params={'format': 'json'})\n",
    "response.json()\n"
   ],
   "metadata": {
    "collapsed": false
   }
  },
  {
   "cell_type": "markdown",
   "source": [
    "#### XML\n"
   ],
   "metadata": {
    "collapsed": false
   }
  },
  {
   "cell_type": "code",
   "execution_count": 17,
   "outputs": [
    {
     "data": {
      "text/plain": "'<Response xmlns:xsi=\"http://www.w3.org/2001/XMLSchema-instance\" xmlns:xsd=\"http://www.w3.org/2001/XMLSchema\"><Count>7</Count><Message>Results returned successfully</Message><SearchCriteria>Make:ford | ModelYear:2015 | VehicleType:truck</SearchCriteria><Results><MakeVehicleTypeModels><Make_ID>460</Make_ID><Make_Name>FORD</Make_Name><Model_ID>1801</Model_ID><Model_Name>F-150</Model_Name><VehicleTypeId>3</VehicleTypeId><VehicleTypeName>Truck </VehicleTypeName></MakeVehicleTypeModels><MakeVehicleTypeModels><Make_ID>460</Make_ID><Make_Name>FORD</Make_Name><Model_ID>1805</Model_ID><Model_Name>F-250</Model_Name><VehicleTypeId>3</VehicleTypeId><VehicleTypeName>Truck </VehicleTypeName></MakeVehicleTypeModels><MakeVehicleTypeModels><Make_ID>460</Make_ID><Make_Name>FORD</Make_Name><Model_ID>1806</Model_ID><Model_Name>F-350</Model_Name><VehicleTypeId>3</VehicleTypeId><VehicleTypeName>Truck </VehicleTypeName></MakeVehicleTypeModels><MakeVehicleTypeModels><Make_ID>460</Make_ID><Make_Name>FORD</Make_Name><Model_ID>1807</Model_ID><Model_Name>F-450</Model_Name><VehicleTypeId>3</VehicleTypeId><VehicleTypeName>Truck </VehicleTypeName></MakeVehicleTypeModels><MakeVehicleTypeModels><Make_ID>460</Make_ID><Make_Name>FORD</Make_Name><Model_ID>1808</Model_ID><Model_Name>F-550</Model_Name><VehicleTypeId>3</VehicleTypeId><VehicleTypeName>Truck </VehicleTypeName></MakeVehicleTypeModels><MakeVehicleTypeModels><Make_ID>460</Make_ID><Make_Name>FORD</Make_Name><Model_ID>1811</Model_ID><Model_Name>Transit Connect</Model_Name><VehicleTypeId>3</VehicleTypeId><VehicleTypeName>Truck </VehicleTypeName></MakeVehicleTypeModels><MakeVehicleTypeModels><Make_ID>460</Make_ID><Make_Name>FORD</Make_Name><Model_ID>3608</Model_ID><Model_Name>Transit</Model_Name><VehicleTypeId>3</VehicleTypeId><VehicleTypeName>Truck </VehicleTypeName></MakeVehicleTypeModels></Results></Response>'"
     },
     "execution_count": 17,
     "metadata": {},
     "output_type": "execute_result"
    }
   ],
   "source": [
    "session = XMLSession()\n",
    "response = session.get(\"https://vpic.nhtsa.dot.gov/api/vehicles/GetModelsForMakeYear/make/ford/modelyear/2015/vehicletype/truck\", params={'format': 'xml'})\n",
    "response.xml.xml"
   ],
   "metadata": {
    "collapsed": false
   }
  },
  {
   "cell_type": "code",
   "execution_count": 17,
   "outputs": [
    {
     "data": {
      "text/plain": "['F-150', 'F-250', 'F-350', 'F-450', 'F-550', 'Transit Connect', 'Transit']"
     },
     "execution_count": 17,
     "metadata": {},
     "output_type": "execute_result"
    }
   ],
   "source": [
    "response.xml.xpath('/Response/Results/MakeVehicleTypeModels/Model_Name/text()')"
   ],
   "metadata": {
    "collapsed": false
   }
  },
  {
   "cell_type": "markdown",
   "source": [
    "# XPath\n"
   ],
   "metadata": {
    "collapsed": false
   }
  },
  {
   "cell_type": "code",
   "execution_count": 24,
   "outputs": [
    {
     "data": {
      "text/plain": "<xml.etree.ElementTree.ElementTree at 0x7f3340d55690>"
     },
     "execution_count": 24,
     "metadata": {},
     "output_type": "execute_result"
    }
   ],
   "source": [
    "with open('simple.xml', 'r') as fp:\n",
    "    tree = ElementTree.parse(fp)\n",
    "tree"
   ],
   "metadata": {
    "collapsed": false
   }
  },
  {
   "cell_type": "markdown",
   "source": [
    "## Tag selector\n"
   ],
   "metadata": {
    "collapsed": false
   }
  },
  {
   "cell_type": "markdown",
   "source": [
    "#### Any where in doc"
   ],
   "metadata": {
    "collapsed": false
   }
  },
  {
   "cell_type": "code",
   "execution_count": 25,
   "outputs": [
    {
     "data": {
      "text/plain": "[<Element 'title' at 0x7f335429a430>, <Element 'title' at 0x7f335429a520>]"
     },
     "execution_count": 25,
     "metadata": {},
     "output_type": "execute_result"
    }
   ],
   "source": [
    "tree.findall('.//title')"
   ],
   "metadata": {
    "collapsed": false
   }
  },
  {
   "cell_type": "markdown",
   "source": [
    "#### From root\n"
   ],
   "metadata": {
    "collapsed": false
   }
  },
  {
   "cell_type": "code",
   "execution_count": 26,
   "outputs": [
    {
     "data": {
      "text/plain": "[<Element 'title' at 0x7f335429a430>, <Element 'title' at 0x7f335429a520>]"
     },
     "execution_count": 26,
     "metadata": {},
     "output_type": "execute_result"
    }
   ],
   "source": [
    "tree.findall('./book/title')\n"
   ],
   "metadata": {
    "collapsed": false
   }
  },
  {
   "cell_type": "markdown",
   "source": [
    "### Select by index\n"
   ],
   "metadata": {
    "collapsed": false
   }
  },
  {
   "cell_type": "code",
   "execution_count": 21,
   "outputs": [
    {
     "data": {
      "text/plain": "'Harry Potter'"
     },
     "execution_count": 21,
     "metadata": {},
     "output_type": "execute_result"
    }
   ],
   "source": [
    "tree.findall(\"./book/[1]/title\")[0].text\n"
   ],
   "metadata": {
    "collapsed": false
   }
  },
  {
   "cell_type": "markdown",
   "source": [
    "### Select by attribute\n"
   ],
   "metadata": {
    "collapsed": false
   }
  },
  {
   "cell_type": "code",
   "execution_count": 27,
   "outputs": [
    {
     "data": {
      "text/plain": "[<Element 'title' at 0x7f335429a430>]"
     },
     "execution_count": 27,
     "metadata": {},
     "output_type": "execute_result"
    }
   ],
   "source": [
    "tree.findall('.//title[@lang=\"en\"]')\n"
   ],
   "metadata": {
    "collapsed": false
   }
  },
  {
   "cell_type": "code",
   "execution_count": 28,
   "outputs": [
    {
     "data": {
      "text/plain": "[<Element 'title' at 0x7f335429a520>]"
     },
     "execution_count": 28,
     "metadata": {},
     "output_type": "execute_result"
    }
   ],
   "source": [
    "tree.findall('.//title[@lang=\"es\"]')\n"
   ],
   "metadata": {
    "collapsed": false
   }
  },
  {
   "cell_type": "markdown",
   "source": [
    "## Reference parent\n"
   ],
   "metadata": {
    "collapsed": false
   }
  },
  {
   "cell_type": "code",
   "execution_count": 30,
   "outputs": [
    {
     "data": {
      "text/plain": "[<Element 'book' at 0x7f335429a3e0>, <Element 'book' at 0x7f335429a4d0>]"
     },
     "execution_count": 30,
     "metadata": {},
     "output_type": "execute_result"
    }
   ],
   "source": [
    "tree.findall('.//title/..')\n"
   ],
   "metadata": {
    "collapsed": false
   }
  },
  {
   "cell_type": "markdown",
   "source": [
    "## Descend the tree\n"
   ],
   "metadata": {
    "collapsed": false
   }
  },
  {
   "cell_type": "code",
   "execution_count": 31,
   "outputs": [
    {
     "name": "stdout",
     "output_type": "stream",
     "text": [
      "bookstore {}\n",
      "book {}\n",
      "book {}\n",
      "title {'lang': 'en'}\n",
      "price {}\n",
      "title {'lang': 'es'}\n",
      "price {}\n"
     ]
    }
   ],
   "source": [
    "elements = [tree.getroot()]\n",
    "while len(elements) > 0:\n",
    "    new_element = elements.pop(0)\n",
    "    print(new_element.tag, new_element.attrib)\n",
    "    for child in new_element:\n",
    "        elements.append(child)\n"
   ],
   "metadata": {
    "collapsed": false
   }
  },
  {
   "cell_type": "markdown",
   "source": [
    "# URL parsing\n"
   ],
   "metadata": {
    "collapsed": false
   }
  },
  {
   "cell_type": "code",
   "execution_count": 32,
   "outputs": [],
   "source": [
    "from urllib.parse import urlparse\n"
   ],
   "metadata": {
    "collapsed": false
   }
  },
  {
   "cell_type": "code",
   "execution_count": 33,
   "outputs": [
    {
     "data": {
      "text/plain": "ParseResult(scheme='http', netloc='localhost:5000', path='/api/employee/2', params='', query='', fragment='')"
     },
     "execution_count": 33,
     "metadata": {},
     "output_type": "execute_result"
    }
   ],
   "source": [
    "results = urlparse('http://localhost:5000/api/employee/2')\n",
    "results"
   ],
   "metadata": {
    "collapsed": false
   }
  },
  {
   "cell_type": "code",
   "execution_count": 34,
   "outputs": [
    {
     "data": {
      "text/plain": "'/api/employee/2'"
     },
     "execution_count": 34,
     "metadata": {},
     "output_type": "execute_result"
    }
   ],
   "source": [
    "results.path\n"
   ],
   "metadata": {
    "collapsed": false
   }
  },
  {
   "cell_type": "code",
   "execution_count": 28,
   "outputs": [],
   "source": [],
   "metadata": {
    "collapsed": false
   }
  }
 ],
 "metadata": {
  "kernelspec": {
   "display_name": "Python 3",
   "language": "python",
   "name": "python3"
  },
  "language_info": {
   "codemirror_mode": {
    "name": "ipython",
    "version": 2
   },
   "file_extension": ".py",
   "mimetype": "text/x-python",
   "name": "python",
   "nbconvert_exporter": "python",
   "pygments_lexer": "ipython2",
   "version": "2.7.6"
  }
 },
 "nbformat": 4,
 "nbformat_minor": 0
}
