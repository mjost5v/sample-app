{
 "cells": [
  {
   "cell_type": "markdown",
   "source": [
    "# Beautiful Soup\n"
   ],
   "metadata": {
    "collapsed": false
   }
  },
  {
   "cell_type": "code",
   "execution_count": 8,
   "outputs": [],
   "source": [
    "import requests\n",
    "from bs4 import BeautifulSoup\n"
   ],
   "metadata": {
    "collapsed": false
   }
  },
  {
   "cell_type": "markdown",
   "source": [
    "# Get a simple html page\n"
   ],
   "metadata": {
    "collapsed": false
   }
  },
  {
   "cell_type": "code",
   "execution_count": 9,
   "outputs": [
    {
     "data": {
      "text/plain": "'<!doctype html><html lang=\"en\"><head><meta charset=\"utf-8\"/><link rel=\"icon\" href=\"/favicon.ico\"/><meta name=\"viewport\" content=\"width=device-width,initial-scale=1\"/><meta name=\"theme-color\" content=\"#000000\"/><meta name=\"description\" content=\"Web site created using create-react-app\"/><link rel=\"apple-touch-icon\" href=\"/logo192.png\"/><link rel=\"manifest\" href=\"/manifest.json\"/><title>React App</title><script defer=\"defer\" src=\"/static/js/main.940cc95d.js\"></script><link href=\"/static/css/main.073c9b0a.css\" rel=\"stylesheet\"></head><body><noscript>You need to enable JavaScript to run this app.</noscript><div id=\"root\"></div></body></html>'"
     },
     "execution_count": 9,
     "metadata": {},
     "output_type": "execute_result"
    }
   ],
   "source": [
    "response = requests.get('http://localhost:5000/')\n",
    "response.text\n"
   ],
   "metadata": {
    "collapsed": false
   }
  },
  {
   "cell_type": "code",
   "execution_count": 10,
   "outputs": [],
   "source": [
    "soup = BeautifulSoup(response.text, 'html.parser')\n"
   ],
   "metadata": {
    "collapsed": false
   }
  },
  {
   "cell_type": "code",
   "execution_count": 11,
   "outputs": [
    {
     "name": "stdout",
     "output_type": "stream",
     "text": [
      "<!DOCTYPE html>\n",
      "<html lang=\"en\">\n",
      " <head>\n",
      "  <meta charset=\"utf-8\"/>\n",
      "  <link href=\"/favicon.ico\" rel=\"icon\"/>\n",
      "  <meta content=\"width=device-width,initial-scale=1\" name=\"viewport\"/>\n",
      "  <meta content=\"#000000\" name=\"theme-color\"/>\n",
      "  <meta content=\"Web site created using create-react-app\" name=\"description\"/>\n",
      "  <link href=\"/logo192.png\" rel=\"apple-touch-icon\"/>\n",
      "  <link href=\"/manifest.json\" rel=\"manifest\"/>\n",
      "  <title>\n",
      "   React App\n",
      "  </title>\n",
      "  <script defer=\"defer\" src=\"/static/js/main.940cc95d.js\">\n",
      "  </script>\n",
      "  <link href=\"/static/css/main.073c9b0a.css\" rel=\"stylesheet\"/>\n",
      " </head>\n",
      " <body>\n",
      "  <noscript>\n",
      "   You need to enable JavaScript to run this app.\n",
      "  </noscript>\n",
      "  <div id=\"root\">\n",
      "  </div>\n",
      " </body>\n",
      "</html>\n"
     ]
    }
   ],
   "source": [
    "print(soup.prettify())\n"
   ],
   "metadata": {
    "collapsed": false
   }
  },
  {
   "cell_type": "markdown",
   "source": [
    "# Get an element by tag"
   ],
   "metadata": {
    "collapsed": false
   }
  },
  {
   "cell_type": "code",
   "execution_count": 12,
   "outputs": [
    {
     "data": {
      "text/plain": "<title>React App</title>"
     },
     "execution_count": 12,
     "metadata": {},
     "output_type": "execute_result"
    }
   ],
   "source": [
    "soup.title\n"
   ],
   "metadata": {
    "collapsed": false
   }
  },
  {
   "cell_type": "markdown",
   "source": [
    "# Get the name of the tag"
   ],
   "metadata": {
    "collapsed": false
   }
  },
  {
   "cell_type": "code",
   "execution_count": 13,
   "outputs": [
    {
     "data": {
      "text/plain": "'title'"
     },
     "execution_count": 13,
     "metadata": {},
     "output_type": "execute_result"
    }
   ],
   "source": [
    "soup.title.name\n"
   ],
   "metadata": {
    "collapsed": false
   }
  },
  {
   "cell_type": "markdown",
   "source": [
    "# Get the inner text of the tag\n"
   ],
   "metadata": {
    "collapsed": false
   }
  },
  {
   "cell_type": "code",
   "execution_count": 14,
   "outputs": [
    {
     "data": {
      "text/plain": "'React App'"
     },
     "execution_count": 14,
     "metadata": {},
     "output_type": "execute_result"
    }
   ],
   "source": [
    "soup.title.string\n"
   ],
   "metadata": {
    "collapsed": false
   }
  },
  {
   "cell_type": "markdown",
   "source": [
    "# Reference the parent\n"
   ],
   "metadata": {
    "collapsed": false
   }
  },
  {
   "cell_type": "code",
   "execution_count": 15,
   "outputs": [
    {
     "data": {
      "text/plain": "'head'"
     },
     "execution_count": 15,
     "metadata": {},
     "output_type": "execute_result"
    }
   ],
   "source": [
    "soup.title.parent.name\n"
   ],
   "metadata": {
    "collapsed": false
   }
  },
  {
   "cell_type": "code",
   "execution_count": 16,
   "outputs": [
    {
     "data": {
      "text/plain": "<link href=\"/favicon.ico\" rel=\"icon\"/>"
     },
     "execution_count": 16,
     "metadata": {},
     "output_type": "execute_result"
    }
   ],
   "source": [
    "soup.link\n"
   ],
   "metadata": {
    "collapsed": false
   }
  },
  {
   "cell_type": "code",
   "execution_count": 17,
   "outputs": [
    {
     "data": {
      "text/plain": "[<link href=\"/favicon.ico\" rel=\"icon\"/>,\n <link href=\"/logo192.png\" rel=\"apple-touch-icon\"/>,\n <link href=\"/manifest.json\" rel=\"manifest\"/>,\n <link href=\"/static/css/main.073c9b0a.css\" rel=\"stylesheet\"/>]"
     },
     "execution_count": 17,
     "metadata": {},
     "output_type": "execute_result"
    }
   ],
   "source": [
    "soup.find_all('link')\n"
   ],
   "metadata": {
    "collapsed": false
   }
  },
  {
   "cell_type": "code",
   "execution_count": 18,
   "outputs": [
    {
     "data": {
      "text/plain": "[<div id=\"root\"></div>]"
     },
     "execution_count": 18,
     "metadata": {},
     "output_type": "execute_result"
    }
   ],
   "source": [
    "soup.find_all(id='root')\n"
   ],
   "metadata": {
    "collapsed": false
   }
  },
  {
   "cell_type": "code",
   "execution_count": 19,
   "outputs": [
    {
     "data": {
      "text/plain": "<!DOCTYPE html>\n\n<html>\n<head>\n<title>\n        The Dormouse's story\n       </title>\n</head>\n<body>\n<p class=\"title\">\n<b>\n         The Dormouse's story\n        </b>\n</p>\n<p class=\"story\">\n        Once upon a time there were three little sisters; and their names were\n        <a class=\"sister\" href=\"http://example.com/elsie\" id=\"link1\">\n         Elsie\n        </a>\n        ,\n        <a class=\"sister\" href=\"http://example.com/lacie\" id=\"link2\">\n         Lacie\n        </a>\n        and\n        <a class=\"sister\" href=\"http://example.com/tillie\" id=\"link3\">\n         Tillie\n        </a>\n        ; and they lived at the bottom of a well.\n       </p>\n<p class=\"story\">\n        ...\n       </p>\n</body>\n</html>"
     },
     "execution_count": 19,
     "metadata": {},
     "output_type": "execute_result"
    }
   ],
   "source": [
    "with open('simple.html', 'r') as fp:\n",
    "    soup = BeautifulSoup(fp, 'html.parser')\n",
    "soup\n"
   ],
   "metadata": {
    "collapsed": false
   }
  },
  {
   "cell_type": "code",
   "execution_count": 20,
   "outputs": [
    {
     "data": {
      "text/plain": "<a class=\"sister\" href=\"http://example.com/elsie\" id=\"link1\">\n         Elsie\n        </a>"
     },
     "execution_count": 20,
     "metadata": {},
     "output_type": "execute_result"
    }
   ],
   "source": [
    "soup.a\n"
   ],
   "metadata": {
    "collapsed": false
   }
  },
  {
   "cell_type": "code",
   "execution_count": 23,
   "outputs": [
    {
     "data": {
      "text/plain": "'http://example.com/elsie'"
     },
     "execution_count": 23,
     "metadata": {},
     "output_type": "execute_result"
    }
   ],
   "source": [
    "soup.a['href']"
   ],
   "metadata": {
    "collapsed": false
   }
  },
  {
   "cell_type": "code",
   "execution_count": 24,
   "outputs": [
    {
     "data": {
      "text/plain": "[<a class=\"sister\" href=\"http://example.com/elsie\" id=\"link1\">\n          Elsie\n         </a>,\n <a class=\"sister\" href=\"http://example.com/lacie\" id=\"link2\">\n          Lacie\n         </a>,\n <a class=\"sister\" href=\"http://example.com/tillie\" id=\"link3\">\n          Tillie\n         </a>]"
     },
     "execution_count": 24,
     "metadata": {},
     "output_type": "execute_result"
    }
   ],
   "source": [
    "soup.find_all('a')\n"
   ],
   "metadata": {
    "collapsed": false
   }
  },
  {
   "cell_type": "markdown",
   "source": [
    "## Get the text content\n"
   ],
   "metadata": {
    "collapsed": false
   }
  },
  {
   "cell_type": "code",
   "execution_count": 25,
   "outputs": [
    {
     "data": {
      "text/plain": "\"\\n\\n\\n\\n        The Dormouse's story\\n       \\n\\n\\n\\n\\n         The Dormouse's story\\n        \\n\\n\\n        Once upon a time there were three little sisters; and their names were\\n        \\n         Elsie\\n        \\n        ,\\n        \\n         Lacie\\n        \\n        and\\n        \\n         Tillie\\n        \\n        ; and they lived at the bottom of a well.\\n       \\n\\n        ...\\n       \\n\\n\\n\""
     },
     "execution_count": 25,
     "metadata": {},
     "output_type": "execute_result"
    }
   ],
   "source": [
    "soup.get_text()\n"
   ],
   "metadata": {
    "collapsed": false
   }
  },
  {
   "cell_type": "markdown",
   "source": [
    "## Get by id\n"
   ],
   "metadata": {
    "collapsed": false
   }
  },
  {
   "cell_type": "code",
   "execution_count": 26,
   "outputs": [
    {
     "data": {
      "text/plain": "<a class=\"sister\" href=\"http://example.com/tillie\" id=\"link3\">\n         Tillie\n        </a>"
     },
     "execution_count": 26,
     "metadata": {},
     "output_type": "execute_result"
    }
   ],
   "source": [
    "soup.find(id='link3')\n"
   ],
   "metadata": {
    "collapsed": false
   }
  },
  {
   "cell_type": "markdown",
   "source": [
    "### Get by class\n"
   ],
   "metadata": {
    "collapsed": false
   }
  },
  {
   "cell_type": "code",
   "execution_count": 27,
   "outputs": [
    {
     "data": {
      "text/plain": "[<p class=\"story\">\n         Once upon a time there were three little sisters; and their names were\n         <a class=\"sister\" href=\"http://example.com/elsie\" id=\"link1\">\n          Elsie\n         </a>\n         ,\n         <a class=\"sister\" href=\"http://example.com/lacie\" id=\"link2\">\n          Lacie\n         </a>\n         and\n         <a class=\"sister\" href=\"http://example.com/tillie\" id=\"link3\">\n          Tillie\n         </a>\n         ; and they lived at the bottom of a well.\n        </p>,\n <p class=\"story\">\n         ...\n        </p>]"
     },
     "execution_count": 27,
     "metadata": {},
     "output_type": "execute_result"
    }
   ],
   "source": [
    "soup.find_all(attrs={\"class\": \"story\"})\n"
   ],
   "metadata": {
    "collapsed": false
   }
  },
  {
   "cell_type": "code",
   "execution_count": 28,
   "outputs": [
    {
     "data": {
      "text/plain": "[<p class=\"story\">\n         Once upon a time there were three little sisters; and their names were\n         <a class=\"sister\" href=\"http://example.com/elsie\" id=\"link1\">\n          Elsie\n         </a>\n         ,\n         <a class=\"sister\" href=\"http://example.com/lacie\" id=\"link2\">\n          Lacie\n         </a>\n         and\n         <a class=\"sister\" href=\"http://example.com/tillie\" id=\"link3\">\n          Tillie\n         </a>\n         ; and they lived at the bottom of a well.\n        </p>,\n <p class=\"story\">\n         ...\n        </p>]"
     },
     "execution_count": 28,
     "metadata": {},
     "output_type": "execute_result"
    }
   ],
   "source": [
    "soup.find_all(class_=\"story\")\n"
   ],
   "metadata": {
    "collapsed": false
   }
  },
  {
   "cell_type": "markdown",
   "source": [
    "## CSS Selectors\n"
   ],
   "metadata": {
    "collapsed": false
   }
  },
  {
   "cell_type": "code",
   "execution_count": 29,
   "outputs": [
    {
     "data": {
      "text/plain": "[<p class=\"title\">\n <b>\n          The Dormouse's story\n         </b>\n </p>]"
     },
     "execution_count": 29,
     "metadata": {},
     "output_type": "execute_result"
    }
   ],
   "source": [
    "soup.select(\"p.title\")\n"
   ],
   "metadata": {
    "collapsed": false
   }
  },
  {
   "cell_type": "code",
   "execution_count": 30,
   "outputs": [
    {
     "data": {
      "text/plain": "[<a class=\"sister\" href=\"http://example.com/elsie\" id=\"link1\">\n          Elsie\n         </a>]"
     },
     "execution_count": 30,
     "metadata": {},
     "output_type": "execute_result"
    }
   ],
   "source": [
    "elsie =soup.select('a#link1')\n",
    "elsie"
   ],
   "metadata": {
    "collapsed": false
   }
  },
  {
   "cell_type": "markdown",
   "source": [
    "# Reference the siblings"
   ],
   "metadata": {
    "collapsed": false
   }
  },
  {
   "cell_type": "code",
   "execution_count": 31,
   "outputs": [
    {
     "data": {
      "text/plain": "<a class=\"sister\" href=\"http://example.com/lacie\" id=\"link2\">\n         Lacie\n        </a>"
     },
     "execution_count": 31,
     "metadata": {},
     "output_type": "execute_result"
    }
   ],
   "source": [
    "elsie[0].find_next_sibling()"
   ],
   "metadata": {
    "collapsed": false
   }
  },
  {
   "cell_type": "code",
   "execution_count": 32,
   "outputs": [],
   "source": [
    "elsie[0].find_previous_sibling()"
   ],
   "metadata": {
    "collapsed": false
   }
  },
  {
   "cell_type": "markdown",
   "source": [
    "## Reference the parent\n"
   ],
   "metadata": {
    "collapsed": false
   }
  },
  {
   "cell_type": "code",
   "execution_count": 33,
   "outputs": [
    {
     "data": {
      "text/plain": "<p class=\"story\">\n        Once upon a time there were three little sisters; and their names were\n        <a class=\"sister\" href=\"http://example.com/elsie\" id=\"link1\">\n         Elsie\n        </a>\n        ,\n        <a class=\"sister\" href=\"http://example.com/lacie\" id=\"link2\">\n         Lacie\n        </a>\n        and\n        <a class=\"sister\" href=\"http://example.com/tillie\" id=\"link3\">\n         Tillie\n        </a>\n        ; and they lived at the bottom of a well.\n       </p>"
     },
     "execution_count": 33,
     "metadata": {},
     "output_type": "execute_result"
    }
   ],
   "source": [
    "story = elsie[0].find_parent()\n",
    "story\n"
   ],
   "metadata": {
    "collapsed": false
   }
  },
  {
   "cell_type": "code",
   "execution_count": 34,
   "outputs": [
    {
     "data": {
      "text/plain": "['\\n        Once upon a time there were three little sisters; and their names were\\n        ',\n <a class=\"sister\" href=\"http://example.com/elsie\" id=\"link1\">\n          Elsie\n         </a>,\n '\\n        ,\\n        ',\n <a class=\"sister\" href=\"http://example.com/lacie\" id=\"link2\">\n          Lacie\n         </a>,\n '\\n        and\\n        ',\n <a class=\"sister\" href=\"http://example.com/tillie\" id=\"link3\">\n          Tillie\n         </a>,\n '\\n        ; and they lived at the bottom of a well.\\n       ']"
     },
     "execution_count": 34,
     "metadata": {},
     "output_type": "execute_result"
    }
   ],
   "source": [
    "list(story.children)\n"
   ],
   "metadata": {
    "collapsed": false
   }
  },
  {
   "cell_type": "markdown",
   "source": [
    "## Find  by attribute value\n"
   ],
   "metadata": {
    "collapsed": false
   }
  },
  {
   "cell_type": "code",
   "execution_count": 35,
   "outputs": [
    {
     "data": {
      "text/plain": "[<a class=\"sister\" href=\"http://example.com/elsie\" id=\"link1\">\n          Elsie\n         </a>,\n <a class=\"sister\" href=\"http://example.com/lacie\" id=\"link2\">\n          Lacie\n         </a>,\n <a class=\"sister\" href=\"http://example.com/tillie\" id=\"link3\">\n          Tillie\n         </a>]"
     },
     "execution_count": 35,
     "metadata": {},
     "output_type": "execute_result"
    }
   ],
   "source": [
    "soup.select(\"a[href]\")\n"
   ],
   "metadata": {
    "collapsed": false
   }
  },
  {
   "cell_type": "code",
   "execution_count": 36,
   "outputs": [
    {
     "data": {
      "text/plain": "[<a class=\"sister\" href=\"http://example.com/lacie\" id=\"link2\">\n          Lacie\n         </a>]"
     },
     "execution_count": 36,
     "metadata": {},
     "output_type": "execute_result"
    }
   ],
   "source": [
    "soup.select('a[href=\"http://example.com/lacie\"]')\n"
   ],
   "metadata": {
    "collapsed": false
   }
  },
  {
   "cell_type": "code",
   "execution_count": null,
   "outputs": [],
   "source": [],
   "metadata": {
    "collapsed": false
   }
  }
 ],
 "metadata": {
  "kernelspec": {
   "display_name": "Python 3",
   "language": "python",
   "name": "python3"
  },
  "language_info": {
   "codemirror_mode": {
    "name": "ipython",
    "version": 2
   },
   "file_extension": ".py",
   "mimetype": "text/x-python",
   "name": "python",
   "nbconvert_exporter": "python",
   "pygments_lexer": "ipython2",
   "version": "2.7.6"
  }
 },
 "nbformat": 4,
 "nbformat_minor": 0
}
